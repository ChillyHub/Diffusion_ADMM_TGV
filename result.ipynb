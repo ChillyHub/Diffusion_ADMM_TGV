{
 "cells": [
  {
   "cell_type": "code",
   "execution_count": null,
   "metadata": {},
   "outputs": [],
   "source": [
    "import os\n",
    "import analyzing_tools as at"
   ]
  },
  {
   "cell_type": "code",
   "execution_count": null,
   "metadata": {},
   "outputs": [],
   "source": [
    "problem = 'sparseview_CT_ADMM_TV_total'\n",
    "config_name = 'AAPM_256_ncsnpp_continuous'\n",
    "\n",
    "method = 'TV'\n",
    "\n",
    "path_root = f'./results/{config_name}/{problem}/{method}/n_view{8}/rho_{10}-lambda_{0.04}/'\n",
    "volume_TV_8views, groud_truth = at.load_volume(path_root, 'recon_198.npy', 'original_198.npy')\n",
    "\n",
    "path_root = f'./results/{config_name}/{problem}/{method}/n_view{4}/rho_{10}-lambda_{0.04}/'\n",
    "volume_TV_4views, _ = at.load_volume(path_root, 'recon_198.npy', 'original_198.npy')\n",
    "\n",
    "path_root = f'./results/{config_name}/{problem}/{method}/n_view{2}/rho_{10}-lambda_{0.04}/'\n",
    "volume_TV_2views, _ = at.load_volume(path_root, 'recon_198.npy', 'original_198.npy')\n",
    "\n",
    "method = 'TGV'\n",
    "\n",
    "path_root = f'./results/{config_name}/{problem}/{method}/n_view{8}/rho0_{5}-rho1_{5}-lambda_{0.04}-alpha0_{2.5}-alpha_1_{2.5}/'\n",
    "volume_TGV_8views, _ = at.load_volume(path_root, 'recon_198.npy', 'original_198.npy')\n",
    "\n",
    "path_root = f'./results/{config_name}/{problem}/{method}/n_view{4}/rho0_{5}-rho1_{5}-lambda_{0.04}-alpha0_{2.5}-alpha_1_{2.5}/'\n",
    "volume_TGV_4views, _ = at.load_volume(path_root, 'recon_198.npy', 'original_198.npy')\n",
    "\n",
    "path_root = f'./results/{config_name}/{problem}/{method}/n_view{2}/rho0_{5}-rho1_{5}-lambda_{0.04}-alpha0_{2.5}-alpha_1_{2.5}/'\n",
    "volume_TGV_2views, _ = at.load_volume(path_root, 'recon_198.npy', 'original_198.npy')"
   ]
  },
  {
   "cell_type": "code",
   "execution_count": null,
   "metadata": {},
   "outputs": [],
   "source": [
    "result_TV_8views = at.extract_slices_and_evaluate(volume_TV_8views, groud_truth)\n",
    "result_TV_4views = at.extract_slices_and_evaluate(volume_TV_4views, groud_truth)\n",
    "result_TV_2views = at.extract_slices_and_evaluate(volume_TV_2views, groud_truth)\n",
    "\n",
    "result_TGV_8views = at.extract_slices_and_evaluate(volume_TGV_8views, groud_truth)\n",
    "result_TGV_4views = at.extract_slices_and_evaluate(volume_TGV_4views, groud_truth)\n",
    "result_TGV_2views = at.extract_slices_and_evaluate(volume_TGV_2views, groud_truth)\n",
    "\n",
    "data_dict_TV = {\n",
    "    '8 views': result_TV_8views,\n",
    "    '4 views': result_TV_4views,\n",
    "    '2 views': result_TV_2views\n",
    "}\n",
    "\n",
    "data_dict_TGV = {\n",
    "    '8 views': result_TGV_8views,\n",
    "    '4 views': result_TGV_4views,\n",
    "    '2 views': result_TGV_2views\n",
    "}\n",
    "\n",
    "dict_list = []\n",
    "dict_list.append(at.flatten_nested_dict(data_dict_TV))\n",
    "dict_list.append(at.flatten_nested_dict(data_dict_TGV))\n",
    "\n",
    "data_df = at.flatten_dicts_to_df(dict_list, ['Diffusion_ADMM_TV', 'Diffusion_ADMM_TGV'])\n",
    "\n",
    "at.table_comparison(data_df, 'PSNR, SSIM')"
   ]
  },
  {
   "cell_type": "code",
   "execution_count": null,
   "metadata": {},
   "outputs": [],
   "source": [
    "at.plot_comparison([volume_TV_8views, volume_TGV_8views], ['TV', 'TGV'], groud_truth)"
   ]
  }
 ],
 "metadata": {
  "kernelspec": {
   "display_name": "mbir_env",
   "language": "python",
   "name": "python3"
  },
  "language_info": {
   "name": "python",
   "version": "3.8.18"
  }
 },
 "nbformat": 4,
 "nbformat_minor": 2
}
