{
 "cells": [
  {
   "cell_type": "code",
   "execution_count": 1,
   "metadata": {},
   "outputs": [],
   "source": [
    "import os\n",
    "import analyzing_tools as at"
   ]
  },
  {
   "cell_type": "code",
   "execution_count": 2,
   "metadata": {},
   "outputs": [],
   "source": [
    "problem = 'sparseview_CT_ADMM_TV_total'\n",
    "config_name = 'AAPM_256_ncsnpp_continuous'\n",
    "\n",
    "method = 'TGV'\n",
    "\n",
    "path_root = f'./results/{config_name}/{problem}/{method}/n_view{8}/rho0_{5}-rho1_{5}-lambda_{0.04}-alpha0_{2.5}-alpha_1_{2.5}/volume/'\n",
    "\n",
    "root = f'./results/{config_name}/{problem}/{method}/n_view{8}/rho0_{5}-rho1_{5}-lambda_{0.04}-alpha0_{2.5}-alpha_1_{2.5}/'\n",
    "\n",
    "at.load_recon_gt_to_volume(root, volume_file_name='volume_198.npy', gt_file_name='ground_truth_198.npy')\n",
    "\n",
    "volume_TGV_8views, groud_truth = at.load_volume(path_root, 'volume_198.npy', 'ground_truth_198.npy')"
   ]
  },
  {
   "cell_type": "code",
   "execution_count": 3,
   "metadata": {},
   "outputs": [
    {
     "name": "stdout",
     "output_type": "stream",
     "text": [
      "(198, 1, 256, 256)\n",
      "(198, 1, 256, 256)\n",
      "Axial    || Average PSNR: 21.411565048357858 || Average SSIM: 0.667380662608545\n",
      "Coronal  || Average PSNR: 16.482657902616992 || Average SSIM: 0.5527927128879523\n",
      "Sagittal || Average PSNR: 20.06679598543313 || Average SSIM: 0.6381558308765873\n"
     ]
    }
   ],
   "source": [
    "print(volume_TGV_8views.shape)\n",
    "print(groud_truth.shape)\n",
    "\n",
    "result_TGV_8views = at.extract_slices_and_evaluate(volume_TGV_8views, groud_truth)\n",
    "\n",
    "aa = result_TGV_8views['Axial']['PSNR']\n",
    "ab = result_TGV_8views['Axial']['SSIM']\n",
    "ba = result_TGV_8views['Coronal']['PSNR']\n",
    "bb = result_TGV_8views['Coronal']['SSIM']\n",
    "ca = result_TGV_8views['Sagittal']['PSNR']\n",
    "cb = result_TGV_8views['Sagittal']['SSIM']\n",
    "\n",
    "print(f'Axial    || Average PSNR: {aa} || Average SSIM: {ab}')\n",
    "print(f'Coronal  || Average PSNR: {ba} || Average SSIM: {bb}')\n",
    "print(f'Sagittal || Average PSNR: {ca} || Average SSIM: {cb}')"
   ]
  },
  {
   "cell_type": "code",
   "execution_count": null,
   "metadata": {},
   "outputs": [],
   "source": [
    "problem = 'sparseview_CT_ADMM_TV_total'\n",
    "config_name = 'AAPM_256_ncsnpp_continuous'\n",
    "\n",
    "method = 'TV'\n",
    "\n",
    "path_root = f'./results/{config_name}/{problem}/{method}/n_view{8}/rho_{10}-lambda_{0.04}/volume/'\n",
    "volume_TV_8views, groud_truth = at.load_volume(path_root, 'volume_198.npy', 'ground_truth_198.npy')\n",
    "\n",
    "path_root = f'./results/{config_name}/{problem}/{method}/n_view{4}/rho_{10}-lambda_{0.04}/volume/'\n",
    "volume_TV_4views, _ = at.load_volume(path_root, 'volume_198.npy', 'ground_truth_198.npy')\n",
    "\n",
    "path_root = f'./results/{config_name}/{problem}/{method}/n_view{2}/rho_{10}-lambda_{0.04}/volume/'\n",
    "volume_TV_2views, _ = at.load_volume(path_root, 'volume_198.npy', 'ground_truth_198.npy')\n",
    "\n",
    "method = 'TGV'\n",
    "\n",
    "path_root = f'./results/{config_name}/{problem}/{method}/n_view{8}/rho0_{5}-rho1_{5}-lambda_{0.04}-alpha0_{2.5}-alpha_1_{2.5}/volume/'\n",
    "volume_TGV_8views, _ = at.load_volume(path_root, 'volume_198.npy', 'ground_truth_198.npy')\n",
    "\n",
    "path_root = f'./results/{config_name}/{problem}/{method}/n_view{4}/rho0_{5}-rho1_{5}-lambda_{0.04}-alpha0_{2.5}-alpha_1_{2.5}/volume/'\n",
    "volume_TGV_4views, _ = at.load_volume(path_root, 'volume_198.npy', 'ground_truth_198.npy')\n",
    "\n",
    "path_root = f'./results/{config_name}/{problem}/{method}/n_view{2}/rho0_{5}-rho1_{5}-lambda_{0.04}-alpha0_{2.5}-alpha_1_{2.5}/volume/'\n",
    "volume_TGV_2views, _ = at.load_volume(path_root, 'volume_198.npy', 'ground_truth_198.npy')"
   ]
  },
  {
   "cell_type": "code",
   "execution_count": null,
   "metadata": {},
   "outputs": [],
   "source": [
    "result_TV_8views = at.extract_slices_and_evaluate(volume_TV_8views, groud_truth)\n",
    "result_TV_4views = at.extract_slices_and_evaluate(volume_TV_4views, groud_truth)\n",
    "result_TV_2views = at.extract_slices_and_evaluate(volume_TV_2views, groud_truth)\n",
    "\n",
    "result_TGV_8views = at.extract_slices_and_evaluate(volume_TGV_8views, groud_truth)\n",
    "result_TGV_4views = at.extract_slices_and_evaluate(volume_TGV_4views, groud_truth)\n",
    "result_TGV_2views = at.extract_slices_and_evaluate(volume_TGV_2views, groud_truth)\n",
    "\n",
    "data_dict_TV = {\n",
    "    '8 views': result_TV_8views,\n",
    "    '4 views': result_TV_4views,\n",
    "    '2 views': result_TV_2views\n",
    "}\n",
    "\n",
    "data_dict_TGV = {\n",
    "    '8 views': result_TGV_8views,\n",
    "    '4 views': result_TGV_4views,\n",
    "    '2 views': result_TGV_2views\n",
    "}\n",
    "\n",
    "dict_list = []\n",
    "dict_list.append(at.flatten_nested_dict(data_dict_TV))\n",
    "dict_list.append(at.flatten_nested_dict(data_dict_TGV))\n",
    "\n",
    "data_df = at.flatten_dicts_to_df(dict_list, ['Diffusion_ADMM_TV', 'Diffusion_ADMM_TGV'])\n",
    "\n",
    "at.table_comparison(data_df, 'PSNR, SSIM')"
   ]
  },
  {
   "cell_type": "code",
   "execution_count": null,
   "metadata": {},
   "outputs": [],
   "source": [
    "at.plot_comparison([volume_TV_8views, volume_TGV_8views], ['TV', 'TGV'], groud_truth)"
   ]
  }
 ],
 "metadata": {
  "kernelspec": {
   "display_name": "mbir_env",
   "language": "python",
   "name": "python3"
  },
  "language_info": {
   "codemirror_mode": {
    "name": "ipython",
    "version": 3
   },
   "file_extension": ".py",
   "mimetype": "text/x-python",
   "name": "python",
   "nbconvert_exporter": "python",
   "pygments_lexer": "ipython3",
   "version": "3.8.19"
  }
 },
 "nbformat": 4,
 "nbformat_minor": 2
}
